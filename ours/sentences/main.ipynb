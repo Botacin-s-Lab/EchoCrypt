{
 "cells": [
  {
   "cell_type": "markdown",
   "metadata": {},
   "source": [
    "## Imports And Setup\n"
   ]
  },
  {
   "cell_type": "code",
   "execution_count": 9,
   "metadata": {},
   "outputs": [],
   "source": [
    "import pandas as pd\n",
    "from collections import Counter\n",
    "\n",
    "from nltk.corpus import words\n",
    "from nltk.tokenize import word_tokenize"
   ]
  },
  {
   "cell_type": "code",
   "execution_count": 10,
   "metadata": {},
   "outputs": [
    {
     "data": {
      "text/html": [
       "<div>\n",
       "<style scoped>\n",
       "    .dataframe tbody tr th:only-of-type {\n",
       "        vertical-align: middle;\n",
       "    }\n",
       "\n",
       "    .dataframe tbody tr th {\n",
       "        vertical-align: top;\n",
       "    }\n",
       "\n",
       "    .dataframe thead th {\n",
       "        text-align: right;\n",
       "    }\n",
       "</style>\n",
       "<table border=\"1\" class=\"dataframe\">\n",
       "  <thead>\n",
       "    <tr style=\"text-align: right;\">\n",
       "      <th></th>\n",
       "      <th>Sentence</th>\n",
       "      <th>Labels</th>\n",
       "    </tr>\n",
       "  </thead>\n",
       "  <tbody>\n",
       "    <tr>\n",
       "      <th>0</th>\n",
       "      <td>by 2050 ai architects will have designed selfc...</td>\n",
       "      <td>Future</td>\n",
       "    </tr>\n",
       "    <tr>\n",
       "      <th>1</th>\n",
       "      <td>in the future sustainable transportation optio...</td>\n",
       "      <td>Future</td>\n",
       "    </tr>\n",
       "    <tr>\n",
       "      <th>2</th>\n",
       "      <td>china has been actively involved in peacekeepi...</td>\n",
       "      <td>Present</td>\n",
       "    </tr>\n",
       "    <tr>\n",
       "      <th>3</th>\n",
       "      <td>educational diversity is a hallmark of foreign...</td>\n",
       "      <td>Present</td>\n",
       "    </tr>\n",
       "    <tr>\n",
       "      <th>4</th>\n",
       "      <td>the coach substituted an underperforming player</td>\n",
       "      <td>Past</td>\n",
       "    </tr>\n",
       "    <tr>\n",
       "      <th>...</th>\n",
       "      <td>...</td>\n",
       "      <td>...</td>\n",
       "    </tr>\n",
       "    <tr>\n",
       "      <th>13311</th>\n",
       "      <td>he will become a good person</td>\n",
       "      <td>Future</td>\n",
       "    </tr>\n",
       "    <tr>\n",
       "      <th>13312</th>\n",
       "      <td>their door opens after eleven</td>\n",
       "      <td>Future</td>\n",
       "    </tr>\n",
       "    <tr>\n",
       "      <th>13313</th>\n",
       "      <td>my mother will cook delicious food</td>\n",
       "      <td>Future</td>\n",
       "    </tr>\n",
       "    <tr>\n",
       "      <th>13314</th>\n",
       "      <td>i am going to win this race</td>\n",
       "      <td>Future</td>\n",
       "    </tr>\n",
       "    <tr>\n",
       "      <th>13315</th>\n",
       "      <td>dona will buy a new mobile next month</td>\n",
       "      <td>Future</td>\n",
       "    </tr>\n",
       "  </tbody>\n",
       "</table>\n",
       "<p>13316 rows × 2 columns</p>\n",
       "</div>"
      ],
      "text/plain": [
       "                                                Sentence   Labels\n",
       "0      by 2050 ai architects will have designed selfc...   Future\n",
       "1      in the future sustainable transportation optio...   Future\n",
       "2      china has been actively involved in peacekeepi...  Present\n",
       "3      educational diversity is a hallmark of foreign...  Present\n",
       "4        the coach substituted an underperforming player     Past\n",
       "...                                                  ...      ...\n",
       "13311                       he will become a good person   Future\n",
       "13312                      their door opens after eleven   Future\n",
       "13313                 my mother will cook delicious food   Future\n",
       "13314                        i am going to win this race   Future\n",
       "13315              dona will buy a new mobile next month   Future\n",
       "\n",
       "[13316 rows x 2 columns]"
      ]
     },
     "execution_count": 10,
     "metadata": {},
     "output_type": "execute_result"
    }
   ],
   "source": [
    "df = pd.read_excel('EnglishTenseUniqueDataset.xlsx', engine='openpyxl')\n",
    "df"
   ]
  },
  {
   "cell_type": "markdown",
   "metadata": {},
   "source": [
    "# Sentences"
   ]
  },
  {
   "cell_type": "code",
   "execution_count": 11,
   "metadata": {},
   "outputs": [],
   "source": [
    "df['has_digit'] = df['Sentence'].str.contains(r'\\d', regex=True, na=False)"
   ]
  },
  {
   "cell_type": "code",
   "execution_count": 12,
   "metadata": {},
   "outputs": [],
   "source": [
    "df = df.sort_values(by='has_digit', ascending=False)"
   ]
  },
  {
   "cell_type": "code",
   "execution_count": 13,
   "metadata": {},
   "outputs": [],
   "source": [
    "has_digit_true_samples = df[df['has_digit'] == True].sample(500, random_state=1)['Sentence'].tolist()\n",
    "has_digit_false_samples = df[df['has_digit'] == False].sample(500, random_state=1)['Sentence'].tolist()\n"
   ]
  },
  {
   "cell_type": "code",
   "execution_count": null,
   "metadata": {},
   "outputs": [],
   "source": []
  },
  {
   "cell_type": "code",
   "execution_count": null,
   "metadata": {},
   "outputs": [],
   "source": [
    "with open('sentences.txt', 'w') as file:\n",
    "    file.write(\"\\n\".join(has_digit_true_samples))\n",
    "    file.write(\"\\n\".join(has_digit_false_samples))"
   ]
  },
  {
   "cell_type": "code",
   "execution_count": null,
   "metadata": {},
   "outputs": [
    {
     "name": "stdout",
     "output_type": "stream",
     "text": [
      "Digit Frequency:\n",
      "   Digit  Frequency\n",
      "1     0       1200\n",
      "4     1        155\n",
      "0     2       1051\n",
      "7     3        324\n",
      "3     4        368\n",
      "2     5        212\n",
      "5     6         87\n",
      "8     7         81\n",
      "9     8         83\n",
      "6     9         90\n",
      "\n",
      "Letter Frequency:\n",
      "    Letter  Frequency\n",
      "2       a      64873\n",
      "0       b      14198\n",
      "5       c      31926\n",
      "13      d      29687\n",
      "8       e     106230\n",
      "16      f      16114\n",
      "14      g      21181\n",
      "6       h      31524\n",
      "3       i      72394\n",
      "21      j        784\n",
      "24      k       4227\n",
      "11      l      40809\n",
      "19      m      20138\n",
      "15      n      63741\n",
      "17      o      54798\n",
      "22      p      20081\n",
      "25      q        797\n",
      "4       r      53862\n",
      "9       s      54837\n",
      "7       t      68433\n",
      "18      u      21395\n",
      "12      v      13885\n",
      "10      w      12506\n",
      "20      x       2491\n",
      "1       y      13062\n",
      "23      z       1749\n"
     ]
    }
   ],
   "source": [
    "# Some Stats\n",
    "all_text = ''.join(df['Sentence'].astype(str)).lower()\n",
    "counts = Counter(char for char in all_text if char.isalnum())\n",
    "\n",
    "digit_counts = {k: v for k, v in counts.items() if k.isdigit()}\n",
    "letter_counts = {k: v for k, v in counts.items() if k.isalpha()}\n",
    "\n",
    "digit_frequency = pd.DataFrame(digit_counts.items(), columns=['Digit', 'Frequency']).sort_values(by='Digit')\n",
    "letter_frequency = pd.DataFrame(letter_counts.items(), columns=['Letter', 'Frequency']).sort_values(by='Letter')\n",
    "\n",
    "# Display the results\n",
    "print(\"Digit Frequency:\\n\", digit_frequency)\n",
    "print(\"\\nLetter Frequency:\\n\", letter_frequency)\n"
   ]
  },
  {
   "cell_type": "code",
   "execution_count": 15,
   "metadata": {},
   "outputs": [
    {
     "name": "stdout",
     "output_type": "stream",
     "text": [
      "<class 'pandas.core.frame.DataFrame'>\n",
      "Index: 13316 entries, 0 to 13315\n",
      "Data columns (total 3 columns):\n",
      " #   Column     Non-Null Count  Dtype \n",
      "---  ------     --------------  ----- \n",
      " 0   Sentence   13316 non-null  object\n",
      " 1   Labels     13316 non-null  object\n",
      " 2   has_digit  13316 non-null  bool  \n",
      "dtypes: bool(1), object(2)\n",
      "memory usage: 325.1+ KB\n"
     ]
    }
   ],
   "source": [
    "df.info()"
   ]
  },
  {
   "cell_type": "markdown",
   "metadata": {},
   "source": [
    "## FT Sentences"
   ]
  },
  {
   "cell_type": "code",
   "execution_count": 16,
   "metadata": {},
   "outputs": [],
   "source": [
    "with open('sentences.txt', 'r') as f:\n",
    "    exclude_sentences = set(f.read().splitlines())"
   ]
  },
  {
   "cell_type": "code",
   "execution_count": 17,
   "metadata": {},
   "outputs": [
    {
     "data": {
      "text/html": [
       "<div>\n",
       "<style scoped>\n",
       "    .dataframe tbody tr th:only-of-type {\n",
       "        vertical-align: middle;\n",
       "    }\n",
       "\n",
       "    .dataframe tbody tr th {\n",
       "        vertical-align: top;\n",
       "    }\n",
       "\n",
       "    .dataframe thead th {\n",
       "        text-align: right;\n",
       "    }\n",
       "</style>\n",
       "<table border=\"1\" class=\"dataframe\">\n",
       "  <thead>\n",
       "    <tr style=\"text-align: right;\">\n",
       "      <th></th>\n",
       "      <th>Sentence</th>\n",
       "      <th>Labels</th>\n",
       "      <th>has_digit</th>\n",
       "    </tr>\n",
       "  </thead>\n",
       "  <tbody>\n",
       "    <tr>\n",
       "      <th>1797</th>\n",
       "      <td>biomedical text mining will have facilitated t...</td>\n",
       "      <td>Future</td>\n",
       "      <td>True</td>\n",
       "    </tr>\n",
       "    <tr>\n",
       "      <th>1823</th>\n",
       "      <td>by 2030 gene editing technology will have elim...</td>\n",
       "      <td>Future</td>\n",
       "      <td>True</td>\n",
       "    </tr>\n",
       "    <tr>\n",
       "      <th>11657</th>\n",
       "      <td>he completed a puzzle with over 1000 pieces</td>\n",
       "      <td>Past</td>\n",
       "      <td>True</td>\n",
       "    </tr>\n",
       "    <tr>\n",
       "      <th>8519</th>\n",
       "      <td>by 2070 centralized ict technologies will have...</td>\n",
       "      <td>Future</td>\n",
       "      <td>True</td>\n",
       "    </tr>\n",
       "    <tr>\n",
       "      <th>5318</th>\n",
       "      <td>by 2290 robotic surgery will have been integra...</td>\n",
       "      <td>Future</td>\n",
       "      <td>True</td>\n",
       "    </tr>\n",
       "    <tr>\n",
       "      <th>...</th>\n",
       "      <td>...</td>\n",
       "      <td>...</td>\n",
       "      <td>...</td>\n",
       "    </tr>\n",
       "    <tr>\n",
       "      <th>4645</th>\n",
       "      <td>the fans sang chants to rally behind their team</td>\n",
       "      <td>Past</td>\n",
       "      <td>False</td>\n",
       "    </tr>\n",
       "    <tr>\n",
       "      <th>4646</th>\n",
       "      <td>physicists are conducting experiments to explo...</td>\n",
       "      <td>Present</td>\n",
       "      <td>False</td>\n",
       "    </tr>\n",
       "    <tr>\n",
       "      <th>4647</th>\n",
       "      <td>language proficiency is assessed through langu...</td>\n",
       "      <td>Present</td>\n",
       "      <td>False</td>\n",
       "    </tr>\n",
       "    <tr>\n",
       "      <th>4648</th>\n",
       "      <td>many projects have incorporated green roofs pr...</td>\n",
       "      <td>Present</td>\n",
       "      <td>False</td>\n",
       "    </tr>\n",
       "    <tr>\n",
       "      <th>13315</th>\n",
       "      <td>dona will buy a new mobile next month</td>\n",
       "      <td>Future</td>\n",
       "      <td>False</td>\n",
       "    </tr>\n",
       "  </tbody>\n",
       "</table>\n",
       "<p>12308 rows × 3 columns</p>\n",
       "</div>"
      ],
      "text/plain": [
       "                                                Sentence   Labels  has_digit\n",
       "1797   biomedical text mining will have facilitated t...   Future       True\n",
       "1823   by 2030 gene editing technology will have elim...   Future       True\n",
       "11657        he completed a puzzle with over 1000 pieces     Past       True\n",
       "8519   by 2070 centralized ict technologies will have...   Future       True\n",
       "5318   by 2290 robotic surgery will have been integra...   Future       True\n",
       "...                                                  ...      ...        ...\n",
       "4645     the fans sang chants to rally behind their team     Past      False\n",
       "4646   physicists are conducting experiments to explo...  Present      False\n",
       "4647   language proficiency is assessed through langu...  Present      False\n",
       "4648   many projects have incorporated green roofs pr...  Present      False\n",
       "13315              dona will buy a new mobile next month   Future      False\n",
       "\n",
       "[12308 rows x 3 columns]"
      ]
     },
     "execution_count": 17,
     "metadata": {},
     "output_type": "execute_result"
    }
   ],
   "source": [
    "remaining_sentences = df[~df['Sentence'].isin(exclude_sentences)]\n",
    "remaining_sentences\n"
   ]
  },
  {
   "cell_type": "code",
   "execution_count": 11,
   "metadata": {},
   "outputs": [],
   "source": [
    "with open('ft_sentences.txt', 'w') as f:\n",
    "    f.writelines('\\n'.join(remaining_sentences['Sentence']))"
   ]
  }
 ],
 "metadata": {
  "kernelspec": {
   "display_name": "venv",
   "language": "python",
   "name": "python3"
  },
  "language_info": {
   "codemirror_mode": {
    "name": "ipython",
    "version": 3
   },
   "file_extension": ".py",
   "mimetype": "text/x-python",
   "name": "python",
   "nbconvert_exporter": "python",
   "pygments_lexer": "ipython3",
   "version": "3.10.12"
  }
 },
 "nbformat": 4,
 "nbformat_minor": 2
}
